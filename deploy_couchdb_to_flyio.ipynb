{
  "cells": [
    {
      "cell_type": "markdown",
      "metadata": {
        "id": "view-in-github",
        "colab_type": "text"
      },
      "source": [
        "<a href=\"https://colab.research.google.com/github/botelhorui/CloudPrime/blob/master/deploy_couchdb_to_flyio.ipynb\" target=\"_parent\"><img src=\"https://colab.research.google.com/assets/colab-badge.svg\" alt=\"Open In Colab\"/></a>"
      ]
    },
    {
      "cell_type": "code",
      "execution_count": null,
      "metadata": {
        "id": "2Vh0mEQEZuAK"
      },
      "outputs": [],
      "source": [
        "# Configurations\n",
        "import os\n",
        "os.environ['region']=\"otp\"\n",
        "os.environ['couchUser']=\"Ohr6yiu0\"\n",
        "os.environ['couchPwd']=\"soom2ei1DaeYohx3\"\n"
      ]
    },
    {
      "cell_type": "code",
      "execution_count": null,
      "metadata": {
        "id": "SPmbB0jZauQ1"
      },
      "outputs": [],
      "source": [
        "# Delete once\n",
        "!rm ./fly.toml\n",
        "!rm ./local.ini\n",
        "!rm ./Dockerfile"
      ]
    },
    {
      "cell_type": "code",
      "execution_count": null,
      "metadata": {
        "id": "Nze7QoxLZ7Yx"
      },
      "outputs": [],
      "source": [
        "# Installation\n",
        "# You have to set up your account in here.\n",
        "!curl -L https://fly.io/install.sh | sh\n",
        "!/root/.fly/bin/flyctl auth signup"
      ]
    },
    {
      "cell_type": "code",
      "source": [
        "# Generate local.ini\n",
        "!echo -e \"[couchdb]\\nsingle_node=true\\nmax_document_size = 50000000\\n\\n[chttpd]\\nrequire_valid_user = true\\nmax_http_request_size = 4294967296\\n\\n[chttpd_auth]\\nrequire_valid_user = true\\nauthentication_redirect = /_utils/session.html\\n\\n[httpd]\\nWWW-Authenticate = Basic realm=\\\"couchdb\\\"\\nenable_cors = true\\n\\n[cors]\\norigins = app://obsidian.md,capacitor://localhost,http://localhost\\ncredentials = true\\nheaders = accept, authorization, content-type, origin, referer\\nmethods = GET, PUT, POST, HEAD, DELETE\\nmax_age = 3600\" >> ./local.ini\n",
        "!cat ./local.ini"
      ],
      "metadata": {
        "id": "AKO3SbfAZjm8"
      },
      "execution_count": null,
      "outputs": []
    },
    {
      "cell_type": "code",
      "source": [
        "# Generate Dockerfile\n",
        "!echo -e \"FROM couchdb:latest\\nADD ./local.ini /opt/couchdb/etc/local.ini\" >> ./Dockerfile\n",
        "!cat ./Dockerfile"
      ],
      "metadata": {
        "id": "P7BQGPaMZv0z"
      },
      "execution_count": null,
      "outputs": []
    },
    {
      "cell_type": "code",
      "source": [
        "# Ignore sample_data directory from docker context since it's 50mb and slows the build down\n",
        "!echo \"sample_data\" >> ./.dockerignore"
      ],
      "metadata": {
        "id": "JPdTerwEd8Pf"
      },
      "execution_count": null,
      "outputs": []
    },
    {
      "cell_type": "code",
      "execution_count": null,
      "metadata": {
        "id": "MVJwsIYrbgtx"
      },
      "outputs": [],
      "source": [
        "# Generate server\n",
        "!/root/.fly/bin/flyctl launch  --auto-confirm --generate-name --detach --no-deploy --region ${region}\n",
        "!/root/.fly/bin/fly volumes create --region ${region} couchdata --size 2 --yes"
      ]
    },
    {
      "cell_type": "code",
      "execution_count": null,
      "metadata": {
        "id": "zUtPZLVnbvdQ"
      },
      "outputs": [],
      "source": [
        "# Modify fly.toml \n",
        "!cat ./fly.toml | grep -iv \"\\[env\\]\" | sed -e 's/8080/5984/g' > fly.tmp\n",
        "!cat fly.tmp > ./fly.toml\n",
        "!echo -e \"\\n[env]\\n  COUCHDB_USER = \\\"${couchUser}\\\"\\n\\n[mounts]\\n  source=\\\"couchdata\\\"\\n  destination=\\\"/opt/couchdb/data\\\"\" >> ./fly.toml"
      ]
    },
    {
      "cell_type": "code",
      "execution_count": null,
      "metadata": {
        "id": "GvMutkAEbxC7"
      },
      "outputs": [],
      "source": [
        "# Show config\n",
        "!cat ./fly.toml"
      ]
    },
    {
      "cell_type": "code",
      "execution_count": null,
      "metadata": {
        "id": "xWdsTCI6bzk2"
      },
      "outputs": [],
      "source": [
        "# Configure\n",
        "!/root/.fly/bin/flyctl secrets set COUCHDB_PASSWORD=${couchPwd}"
      ]
    },
    {
      "cell_type": "code",
      "execution_count": null,
      "metadata": {
        "id": "k0WIQlShcXGa"
      },
      "outputs": [],
      "source": [
        "# Deploy server\n",
        "# Be sure to shutdown after the test.\n",
        "!/root/.fly/bin/flyctl deploy --detach --remote-only\n",
        "!/root/.fly/bin/flyctl status "
      ]
    },
    {
      "cell_type": "code",
      "execution_count": null,
      "metadata": {
        "id": "0ySggkdlfq7M"
      },
      "outputs": [],
      "source": [
        "import subprocess, json\n",
        "result = subprocess.run([\"/root/.fly/bin/flyctl\",\"status\",\"-j\"], capture_output=True, text=True)\n",
        "if result.returncode==0:\n",
        "    hostname = json.loads(result.stdout)[\"Hostname\"]\n",
        "    os.environ['couchHost']=\"https://%s\" % (hostname)\n",
        "    print(\"Your couchDB server is https://%s/\" % (hostname))\n",
        "else:\n",
        "    print(\"Something occured.\")\n"
      ]
    }
  ],
  "metadata": {
    "colab": {
      "provenance": [],
      "private_outputs": true,
      "include_colab_link": true
    },
    "kernelspec": {
      "display_name": "Python 3",
      "name": "python3"
    },
    "language_info": {
      "name": "python"
    },
    "gpuClass": "standard"
  },
  "nbformat": 4,
  "nbformat_minor": 0
}